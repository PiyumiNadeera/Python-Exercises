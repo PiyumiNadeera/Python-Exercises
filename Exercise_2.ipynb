{
  "nbformat": 4,
  "nbformat_minor": 0,
  "metadata": {
    "colab": {
      "provenance": [],
      "authorship_tag": "ABX9TyO52jpzli5KKnIhwVHeAWx3"
    },
    "kernelspec": {
      "name": "python3",
      "display_name": "Python 3"
    },
    "language_info": {
      "name": "python"
    }
  },
  "cells": [
    {
      "cell_type": "code",
      "execution_count": null,
      "metadata": {
        "id": "Q6f8LVm50Wor"
      },
      "outputs": [],
      "source": [
        "import json\n",
        "\n",
        "class Student:\n",
        "  def __init__(self,name,id):\n",
        "    self.name = name\n",
        "    self.id = id\n",
        "    self.grades = []\n",
        "\n",
        "  def __str__(self):\n",
        "    return (f\"Student name : {self.name} | Student Id : {self.id}\")\n",
        "\n",
        "  #Adding grades\n",
        "  def add_grades(self,grade):\n",
        "    self.grades.append(grade)\n",
        "    print(f\"Grade {grade} successfully added\")\n",
        "\n",
        "  #Calulating average\n",
        "  def calculate_average(self):\n",
        "    if not self.grades:\n",
        "      return 0\n",
        "\n",
        "    average = sum(self.grades)/len(self.grades)\n",
        "    return round(average,2)\n",
        "\n",
        "  #Calculating final result, whether passed or failed\n",
        "  def final_result(self):\n",
        "    average = self.calculate_average()\n",
        "    if(average >= 60):\n",
        "      return \"Passed\"\n",
        "    else:\n",
        "      return \"Failed\"\n",
        "\n",
        "  #Storing details in a json file\n",
        "  def store_details(self,file_name):\n",
        "    student_info = {\n",
        "        \"id\":self.id,\n",
        "        \"name\": self.name,\n",
        "        \"grades\":self.grades,\n",
        "        \"average\":self.calculate_average(),\n",
        "        \"result\":self.final_result()\n",
        "    }\n",
        "\n",
        "    with open(file_name,\"w\") as file:\n",
        "      json.dump(student_info,file,indent=4)\n",
        "\n",
        "\n"
      ]
    },
    {
      "cell_type": "code",
      "source": [
        "student = Student(\"Amal Bandara\",\"CS/2017/033\")\n",
        "print(student)"
      ],
      "metadata": {
        "colab": {
          "base_uri": "https://localhost:8080/"
        },
        "id": "dtHmdgEe1YV2",
        "outputId": "e67831a8-b754-4229-a0ec-06e639156a68"
      },
      "execution_count": null,
      "outputs": [
        {
          "output_type": "stream",
          "name": "stdout",
          "text": [
            "Student name : Amal Bandara | Student Id : CS/2017/033\n"
          ]
        }
      ]
    },
    {
      "cell_type": "code",
      "source": [
        "student.add_grades(80)\n",
        "student.add_grades(75)\n",
        "student.add_grades(62)"
      ],
      "metadata": {
        "colab": {
          "base_uri": "https://localhost:8080/"
        },
        "id": "2mNxK2b_3Oxk",
        "outputId": "a8cab852-0931-4f42-85a7-0e13c5dbe33b"
      },
      "execution_count": null,
      "outputs": [
        {
          "output_type": "stream",
          "name": "stdout",
          "text": [
            "Grade 80 successfully added\n",
            "Grade 75 successfully added\n",
            "Grade 62 successfully added\n"
          ]
        }
      ]
    },
    {
      "cell_type": "code",
      "source": [
        "print(student.grades)"
      ],
      "metadata": {
        "colab": {
          "base_uri": "https://localhost:8080/"
        },
        "id": "xWSQY_bv3jyY",
        "outputId": "08ce95e7-1fc1-4699-d156-f3b4802f0086"
      },
      "execution_count": null,
      "outputs": [
        {
          "output_type": "stream",
          "name": "stdout",
          "text": [
            "[80, 75, 62]\n"
          ]
        }
      ]
    },
    {
      "cell_type": "code",
      "source": [
        "student.calculate_average()"
      ],
      "metadata": {
        "colab": {
          "base_uri": "https://localhost:8080/"
        },
        "id": "yNlBPK053r14",
        "outputId": "617255f9-1415-45f6-9c57-83e68b0b1f1f"
      },
      "execution_count": null,
      "outputs": [
        {
          "output_type": "execute_result",
          "data": {
            "text/plain": [
              "72.33"
            ]
          },
          "metadata": {},
          "execution_count": 248
        }
      ]
    },
    {
      "cell_type": "code",
      "source": [
        "student.final_result()"
      ],
      "metadata": {
        "colab": {
          "base_uri": "https://localhost:8080/",
          "height": 36
        },
        "id": "V8LBZuBr4V5J",
        "outputId": "83b690bb-56df-425a-e634-a24908f5a551"
      },
      "execution_count": null,
      "outputs": [
        {
          "output_type": "execute_result",
          "data": {
            "text/plain": [
              "'Passed'"
            ],
            "application/vnd.google.colaboratory.intrinsic+json": {
              "type": "string"
            }
          },
          "metadata": {},
          "execution_count": 249
        }
      ]
    },
    {
      "cell_type": "code",
      "source": [
        "student.store_details(\"student_information.json\")\n"
      ],
      "metadata": {
        "id": "Cnybo3tf7D9R"
      },
      "execution_count": null,
      "outputs": []
    },
    {
      "cell_type": "code",
      "source": [
        "from google.colab import files\n",
        "files.download(\"student_information.json\")"
      ],
      "metadata": {
        "id": "1ttDUjNM8ib3",
        "colab": {
          "base_uri": "https://localhost:8080/",
          "height": 17
        },
        "outputId": "137a3b46-2ab1-4893-e195-40807c49954b"
      },
      "execution_count": null,
      "outputs": [
        {
          "output_type": "display_data",
          "data": {
            "text/plain": [
              "<IPython.core.display.Javascript object>"
            ],
            "application/javascript": [
              "\n",
              "    async function download(id, filename, size) {\n",
              "      if (!google.colab.kernel.accessAllowed) {\n",
              "        return;\n",
              "      }\n",
              "      const div = document.createElement('div');\n",
              "      const label = document.createElement('label');\n",
              "      label.textContent = `Downloading \"${filename}\": `;\n",
              "      div.appendChild(label);\n",
              "      const progress = document.createElement('progress');\n",
              "      progress.max = size;\n",
              "      div.appendChild(progress);\n",
              "      document.body.appendChild(div);\n",
              "\n",
              "      const buffers = [];\n",
              "      let downloaded = 0;\n",
              "\n",
              "      const channel = await google.colab.kernel.comms.open(id);\n",
              "      // Send a message to notify the kernel that we're ready.\n",
              "      channel.send({})\n",
              "\n",
              "      for await (const message of channel.messages) {\n",
              "        // Send a message to notify the kernel that we're ready.\n",
              "        channel.send({})\n",
              "        if (message.buffers) {\n",
              "          for (const buffer of message.buffers) {\n",
              "            buffers.push(buffer);\n",
              "            downloaded += buffer.byteLength;\n",
              "            progress.value = downloaded;\n",
              "          }\n",
              "        }\n",
              "      }\n",
              "      const blob = new Blob(buffers, {type: 'application/binary'});\n",
              "      const a = document.createElement('a');\n",
              "      a.href = window.URL.createObjectURL(blob);\n",
              "      a.download = filename;\n",
              "      div.appendChild(a);\n",
              "      a.click();\n",
              "      div.remove();\n",
              "    }\n",
              "  "
            ]
          },
          "metadata": {}
        },
        {
          "output_type": "display_data",
          "data": {
            "text/plain": [
              "<IPython.core.display.Javascript object>"
            ],
            "application/javascript": [
              "download(\"download_e6a3551d-1acb-4613-8677-28f7b435e71e\", \"student_information.json\", 159)"
            ]
          },
          "metadata": {}
        }
      ]
    },
    {
      "cell_type": "code",
      "source": [],
      "metadata": {
        "id": "_UdFDoMvBK3E"
      },
      "execution_count": null,
      "outputs": []
    }
  ]
}