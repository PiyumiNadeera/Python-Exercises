{
  "nbformat": 4,
  "nbformat_minor": 0,
  "metadata": {
    "colab": {
      "provenance": [],
      "authorship_tag": "ABX9TyPjeIh3NeQOAorXegyKsztY"
    },
    "kernelspec": {
      "name": "python3",
      "display_name": "Python 3"
    },
    "language_info": {
      "name": "python"
    }
  },
  "cells": [
    {
      "cell_type": "code",
      "execution_count": null,
      "metadata": {
        "id": "cz37dJ8E26lb"
      },
      "outputs": [],
      "source": [
        "class Stack:\n",
        "  def __init__(self):\n",
        "    self.stack = []\n",
        "\n",
        "  def push(self,element):\n",
        "    self.stack.append(element)\n",
        "    print(f\"{element} added to the stack\")\n",
        "\n",
        "  def is_empty(self):\n",
        "    if len(self.stack) == 0:\n",
        "      return True\n",
        "    else:\n",
        "      return False\n",
        "\n",
        "  def pop(self):\n",
        "    is_stack_empty =self.is_empty()\n",
        "    if(is_stack_empty== False):\n",
        "      print(f\"{self.stack[-1]} removed from the stack\")\n",
        "      return self.stack.pop(-1)\n",
        "      #return self.stack[-1]\n",
        "    else:\n",
        "      print(\"Stack is empty\")\n",
        "      return None\n"
      ]
    },
    {
      "cell_type": "code",
      "source": [
        "stack = Stack()\n",
        "\n",
        "stack.push(20)\n",
        "stack.push(50)\n",
        "stack.push(38)\n"
      ],
      "metadata": {
        "colab": {
          "base_uri": "https://localhost:8080/"
        },
        "id": "KkFHrgEP4s86",
        "outputId": "92a9bbdb-6ffa-4471-8d5f-0787bb2172fd"
      },
      "execution_count": null,
      "outputs": [
        {
          "output_type": "stream",
          "name": "stdout",
          "text": [
            "20 added to the stack\n",
            "50 added to the stack\n",
            "38 added to the stack\n"
          ]
        }
      ]
    },
    {
      "cell_type": "code",
      "source": [
        "stack.is_empty()"
      ],
      "metadata": {
        "colab": {
          "base_uri": "https://localhost:8080/"
        },
        "id": "qTYtA_Gk7oiX",
        "outputId": "6027fe87-68bf-496b-c83a-e88bed9cc176"
      },
      "execution_count": null,
      "outputs": [
        {
          "output_type": "execute_result",
          "data": {
            "text/plain": [
              "False"
            ]
          },
          "metadata": {},
          "execution_count": 4
        }
      ]
    },
    {
      "cell_type": "code",
      "source": [
        "stack.pop()\n",
        "stack.pop()\n",
        "stack.pop()\n",
        "stack.pop()"
      ],
      "metadata": {
        "id": "HJ6x7QVM5xw0",
        "colab": {
          "base_uri": "https://localhost:8080/"
        },
        "outputId": "508049fa-cb90-41f8-aa10-6fde7491289d"
      },
      "execution_count": null,
      "outputs": [
        {
          "output_type": "stream",
          "name": "stdout",
          "text": [
            "38 removed from the stack\n",
            "50 removed from the stack\n",
            "20 removed from the stack\n",
            "Stack is empty\n"
          ]
        }
      ]
    },
    {
      "cell_type": "code",
      "source": [
        "def is_balanced(parantheses):\n",
        "  new_stack = Stack()\n",
        "  parantheses_pairs = {\"(\":\")\",\"[\":\"]\",\"{\":\"}\"}\n",
        "\n",
        "  for item in parantheses:\n",
        "    if item in parantheses_pairs.keys():\n",
        "      new_stack.push(item)\n",
        "    elif item in parantheses_pairs.values():\n",
        "      if new_stack.is_empty() or parantheses_pairs[new_stack.pop()] != item:\n",
        "        return False\n",
        "\n",
        "  return new_stack.is_empty()\n"
      ],
      "metadata": {
        "id": "c_pJeJDI7Bcp"
      },
      "execution_count": null,
      "outputs": []
    },
    {
      "cell_type": "code",
      "source": [
        "is_balanced(\"(([]{}))\")"
      ],
      "metadata": {
        "colab": {
          "base_uri": "https://localhost:8080/"
        },
        "id": "ZSAucM1ADZim",
        "outputId": "7212c94d-dbb3-40ee-8e68-61e4f93934ef"
      },
      "execution_count": null,
      "outputs": [
        {
          "output_type": "stream",
          "name": "stdout",
          "text": [
            "( added to the stack\n",
            "( added to the stack\n",
            "[ added to the stack\n",
            "[ removed from the stack\n",
            "{ added to the stack\n",
            "{ removed from the stack\n",
            "( removed from the stack\n",
            "( removed from the stack\n"
          ]
        },
        {
          "output_type": "execute_result",
          "data": {
            "text/plain": [
              "True"
            ]
          },
          "metadata": {},
          "execution_count": 7
        }
      ]
    },
    {
      "cell_type": "code",
      "source": [
        "\n",
        "is_balanced(\"[({)]\")"
      ],
      "metadata": {
        "colab": {
          "base_uri": "https://localhost:8080/"
        },
        "id": "vV6a4YKXDwD5",
        "outputId": "50a55585-ce00-442a-f3e9-0984da7a0abe"
      },
      "execution_count": null,
      "outputs": [
        {
          "output_type": "stream",
          "name": "stdout",
          "text": [
            "[ added to the stack\n",
            "( added to the stack\n",
            "{ added to the stack\n",
            "{ removed from the stack\n"
          ]
        },
        {
          "output_type": "execute_result",
          "data": {
            "text/plain": [
              "False"
            ]
          },
          "metadata": {},
          "execution_count": 8
        }
      ]
    },
    {
      "cell_type": "code",
      "source": [],
      "metadata": {
        "id": "XN7UG46SE-WX"
      },
      "execution_count": null,
      "outputs": []
    }
  ]
}