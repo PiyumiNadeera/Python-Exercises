{
  "nbformat": 4,
  "nbformat_minor": 0,
  "metadata": {
    "colab": {
      "provenance": [],
      "authorship_tag": "ABX9TyOQ/5HsZSWBz+oaMDdk/OaX"
    },
    "kernelspec": {
      "name": "python3",
      "display_name": "Python 3"
    },
    "language_info": {
      "name": "python"
    }
  },
  "cells": [
    {
      "cell_type": "code",
      "execution_count": null,
      "metadata": {
        "id": "cwREQui9iJ9J"
      },
      "outputs": [],
      "source": [
        "class Movie:\n",
        "  def __init__(self,title,genre,rating):\n",
        "    self.title = title\n",
        "    self.genre = genre\n",
        "    self.rating = rating\n"
      ]
    },
    {
      "cell_type": "code",
      "source": [
        "class MovieDatabase:\n",
        "  def __init__(self):\n",
        "    self.movies = []\n",
        "    self.genres = set()\n",
        "\n",
        "  #Adding movies to the movie database\n",
        "  def add_movie(self,movie):\n",
        "    self.movies.append(movie)\n",
        "    self.genres.add(movie.genre)\n",
        "    print(f\"{movie.title} successfully added\")\n",
        "\n",
        "  #Search movies by genre\n",
        "  def search_by_genre(self,genre):\n",
        "    movie_count=0\n",
        "    for movie in self.movies:\n",
        "      if(movie.genre == genre):\n",
        "        movie_count +=1\n",
        "        print(f\"Title : {movie.title} | Genre : {movie.genre} | Rating : {movie.rating}\\n\")\n",
        "\n",
        "    if(movie_count==0):\n",
        "      print(f\"No movies found for the genre {genre}\")\n",
        "\n",
        "  #Sorting movies by ratings\n",
        "  def sort_movies_by_ratings(self):\n",
        "    print(\"----Sorted movies from highest ratings to lowest ratings----\\n\")\n",
        "    for movie in self.movies:\n",
        "      sorted_movies = sorted(self.movies, key = lambda movie: movie.rating, reverse=True)\n",
        "\n",
        "    for movie in sorted_movies:\n",
        "      print(f\"Title : {movie.title} | Genre : {movie.genre} | Rating : {movie.rating}\\n\")\n",
        "\n",
        "\n",
        "  def show_all_movies(self):\n",
        "    for movie in self.movies:\n",
        "      print(f\"Title : {movie.title} | Genre : {movie.genre} | Rating : {movie.rating}\\n\")\n",
        "\n"
      ],
      "metadata": {
        "id": "IbvECU9zkNmo"
      },
      "execution_count": null,
      "outputs": []
    },
    {
      "cell_type": "code",
      "source": [
        "movie1 = Movie(\"Inception\",\"Action\",4.8)\n",
        "movie2 = Movie(\"The Godfather\",\"Crime\",3.2)\n",
        "movie3 = Movie(\"The Dark knight\",\"Action\",4.5)\n",
        "movie4 = Movie(\"Forrest Gump\", \"Crime\", 2.8)\n",
        "movie5 = Movie(\"Interstellar\", \"Science Fiction\", 1.6)\n",
        "movie6 = Movie(\"The Matrix\", \"Action\", 4.7)\n",
        "\n",
        "movie_database = MovieDatabase()\n",
        "\n",
        "movie_database.add_movie(movie1)\n",
        "movie_database.add_movie(movie2)\n",
        "movie_database.add_movie(movie3)\n",
        "movie_database.add_movie(movie4)\n",
        "movie_database.add_movie(movie5)\n",
        "movie_database.add_movie(movie6)"
      ],
      "metadata": {
        "colab": {
          "base_uri": "https://localhost:8080/"
        },
        "id": "BDiPClqojfUj",
        "outputId": "9b099ebc-502e-468c-cb0e-c72b6269b65a"
      },
      "execution_count": null,
      "outputs": [
        {
          "output_type": "stream",
          "name": "stdout",
          "text": [
            "Inception successfully added\n",
            "The Godfather successfully added\n",
            "The Dark knight successfully added\n",
            "Forrest Gump successfully added\n",
            "Interstellar successfully added\n",
            "The Matrix successfully added\n"
          ]
        }
      ]
    },
    {
      "cell_type": "code",
      "source": [
        "movie_database.show_all_movies()"
      ],
      "metadata": {
        "colab": {
          "base_uri": "https://localhost:8080/"
        },
        "id": "UNDN_eF7lVXy",
        "outputId": "e1cdd9da-2976-4073-cc21-c01177bc62c4"
      },
      "execution_count": null,
      "outputs": [
        {
          "output_type": "stream",
          "name": "stdout",
          "text": [
            "Title : Inception | Genre : Action | Rating : 4.8\n",
            "\n",
            "Title : The Godfather | Genre : Crime | Rating : 3.2\n",
            "\n",
            "Title : The Dark knight | Genre : Action | Rating : 4.5\n",
            "\n",
            "Title : Forrest Gump | Genre : Crime | Rating : 2.8\n",
            "\n",
            "Title : Interstellar | Genre : Science Fiction | Rating : 1.6\n",
            "\n",
            "Title : The Matrix | Genre : Action | Rating : 4.7\n",
            "\n"
          ]
        }
      ]
    },
    {
      "cell_type": "code",
      "source": [
        "movie_database.search_by_genre(\"Action\")"
      ],
      "metadata": {
        "colab": {
          "base_uri": "https://localhost:8080/"
        },
        "id": "4Uit3PCryQbs",
        "outputId": "962afcd0-9a2f-4ce3-f868-0564779181d7"
      },
      "execution_count": null,
      "outputs": [
        {
          "output_type": "stream",
          "name": "stdout",
          "text": [
            "Title : Inception | Genre : Action | Rating : 4.8\n",
            "\n",
            "Title : The Dark knight | Genre : Action | Rating : 4.5\n",
            "\n",
            "Title : The Matrix | Genre : Action | Rating : 4.7\n",
            "\n"
          ]
        }
      ]
    },
    {
      "cell_type": "code",
      "source": [
        "movie_database.search_by_genre(\"Drama\")"
      ],
      "metadata": {
        "colab": {
          "base_uri": "https://localhost:8080/"
        },
        "id": "i8jMWrLnlYpI",
        "outputId": "b280b423-cc05-4aae-e47a-b2c670885db7"
      },
      "execution_count": null,
      "outputs": [
        {
          "output_type": "stream",
          "name": "stdout",
          "text": [
            "No movies found for the genre Drama\n"
          ]
        }
      ]
    },
    {
      "cell_type": "code",
      "source": [
        "movie_database.sort_movies_by_ratings()"
      ],
      "metadata": {
        "colab": {
          "base_uri": "https://localhost:8080/"
        },
        "id": "zOqBs_x2wDeW",
        "outputId": "fd3202a5-603e-44d6-c953-581414e572e9"
      },
      "execution_count": null,
      "outputs": [
        {
          "output_type": "stream",
          "name": "stdout",
          "text": [
            "----Sorted movies from highest ratings to lowest ratings----\n",
            "\n",
            "Title : Inception | Genre : Action | Rating : 4.8\n",
            "\n",
            "Title : The Matrix | Genre : Action | Rating : 4.7\n",
            "\n",
            "Title : The Dark knight | Genre : Action | Rating : 4.5\n",
            "\n",
            "Title : The Godfather | Genre : Crime | Rating : 3.2\n",
            "\n",
            "Title : Forrest Gump | Genre : Crime | Rating : 2.8\n",
            "\n",
            "Title : Interstellar | Genre : Science Fiction | Rating : 1.6\n",
            "\n"
          ]
        }
      ]
    }
  ]
}