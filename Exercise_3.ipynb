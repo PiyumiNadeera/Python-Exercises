{
  "nbformat": 4,
  "nbformat_minor": 0,
  "metadata": {
    "colab": {
      "provenance": [],
      "authorship_tag": "ABX9TyP2T/1WLLETCMzh0jfByAkc"
    },
    "kernelspec": {
      "name": "python3",
      "display_name": "Python 3"
    },
    "language_info": {
      "name": "python"
    }
  },
  "cells": [
    {
      "cell_type": "code",
      "execution_count": null,
      "metadata": {
        "id": "5tH65MOrGrKC"
      },
      "outputs": [],
      "source": [
        "class Task:\n",
        "  def __init__(self,title,description,status=\"Pending\"):\n",
        "    self.title = title\n",
        "    self.description = description\n",
        "    self.status = status"
      ]
    },
    {
      "cell_type": "code",
      "source": [
        "import csv\n",
        "\n",
        "class TaskManager:\n",
        "  def __init__(self):\n",
        "    self.task_queue = []\n",
        "\n",
        "  #Add tasks to the queue\n",
        "  def add_task(self,task):\n",
        "    self.task_queue.append(task)\n",
        "    print(f\"{task.title} successfully added.\")\n",
        "\n",
        "  #Marking tasks as complete\n",
        "  def complete_task(self):\n",
        "    for i,task in enumerate(self.task_queue):\n",
        "      if task.status == \"Complete\":\n",
        "        continue\n",
        "      else:\n",
        "        task.status = \"Complete\"\n",
        "        task_index = i\n",
        "        print(f\"{task.title} completed\\n\")\n",
        "        break\n",
        "    else:\n",
        "      print(\"All tasks are completed\")\n",
        "\n",
        "\n",
        "  #Display pending tasks\n",
        "  def display_pending_tasks(self):\n",
        "    pending_task_count=0\n",
        "    for task in self.task_queue:\n",
        "      if (task.status == \"Pending\"):\n",
        "        pending_task_count += 1\n",
        "        print(f\"Title : {task.title}\\nDescription : {task.description}\\nStatus : {task.status}\\n\")\n",
        "\n",
        "    if (pending_task_count==0):\n",
        "      print(\"No pending tasks\")\n",
        "\n",
        "  #Show all tasks\n",
        "  def show_all_tasks(self):\n",
        "      for task in self.task_queue:\n",
        "        print(f\"Title : {task.title}\\nDescription : {task.description}\\nStatus : {task.status}\\n\")\n",
        "\n",
        "  #Saving tasks to a list in a csv file\n",
        "  def save_task_list(self,file_name):\n",
        "    with open(file_name,mode=\"w\",newline = \"\") as file:\n",
        "      writer = csv.writer(file)\n",
        "      writer.writerow([\"Title\",\"Description\",\"Status\"])\n",
        "\n",
        "      for task in self.task_queue:\n",
        "        writer.writerow([task.title,task.description,task.status])\n"
      ],
      "metadata": {
        "id": "K9m7EREbIKjy"
      },
      "execution_count": null,
      "outputs": []
    },
    {
      "cell_type": "code",
      "source": [
        "new_task1 = Task(\"Task 1\",\"Completing python assignment\")\n",
        "new_task2 = Task(\"Task 2\",\"Uploading documents\")\n",
        "new_task3 = Task(\"Task 3\",\"Editing photos\")\n",
        "\n",
        "task_manager = TaskManager()\n",
        "\n",
        "task_manager.add_task(new_task1)\n",
        "task_manager.add_task(new_task2)\n",
        "task_manager.add_task(new_task3)\n"
      ],
      "metadata": {
        "colab": {
          "base_uri": "https://localhost:8080/"
        },
        "id": "aCtelEsSIBBc",
        "outputId": "97c57800-ce33-4fd6-88dd-c0084902d408"
      },
      "execution_count": null,
      "outputs": [
        {
          "output_type": "stream",
          "name": "stdout",
          "text": [
            "Task 1 successfully added.\n",
            "Task 2 successfully added.\n",
            "Task 3 successfully added.\n"
          ]
        }
      ]
    },
    {
      "cell_type": "code",
      "source": [
        "task_manager.show_all_tasks()"
      ],
      "metadata": {
        "colab": {
          "base_uri": "https://localhost:8080/"
        },
        "id": "dF9LQzjuJBQI",
        "outputId": "5e8ff0f9-b4c4-4e52-cdf0-0c6c84b13aa5"
      },
      "execution_count": null,
      "outputs": [
        {
          "output_type": "stream",
          "name": "stdout",
          "text": [
            "Title : Task 1\n",
            "Description : Completing python assignment\n",
            "Status : Pending\n",
            "\n",
            "Title : Task 2\n",
            "Description : Uploading documents\n",
            "Status : Pending\n",
            "\n",
            "Title : Task 3\n",
            "Description : Editing photos\n",
            "Status : Pending\n",
            "\n"
          ]
        }
      ]
    },
    {
      "cell_type": "code",
      "source": [
        "task_manager.display_pending_tasks()"
      ],
      "metadata": {
        "colab": {
          "base_uri": "https://localhost:8080/"
        },
        "id": "5w2aYarzK9bs",
        "outputId": "842b0c46-6d57-4b78-bf6a-e0db82855b9f"
      },
      "execution_count": null,
      "outputs": [
        {
          "output_type": "stream",
          "name": "stdout",
          "text": [
            "Title : Task 1\n",
            "Description : Completing python assignment\n",
            "Status : Pending\n",
            "\n",
            "Title : Task 2\n",
            "Description : Uploading documents\n",
            "Status : Pending\n",
            "\n",
            "Title : Task 3\n",
            "Description : Editing photos\n",
            "Status : Pending\n",
            "\n"
          ]
        }
      ]
    },
    {
      "cell_type": "code",
      "source": [
        "task_manager.complete_task()"
      ],
      "metadata": {
        "colab": {
          "base_uri": "https://localhost:8080/"
        },
        "id": "ToIHOruLJlmt",
        "outputId": "4e7fdc66-134d-4532-fb20-8a45f6a6dfa8"
      },
      "execution_count": null,
      "outputs": [
        {
          "output_type": "stream",
          "name": "stdout",
          "text": [
            "Task 1 completed\n",
            "\n"
          ]
        }
      ]
    },
    {
      "cell_type": "code",
      "source": [
        "task_manager.display_pending_tasks()"
      ],
      "metadata": {
        "id": "YGTHjiO2tUp3",
        "colab": {
          "base_uri": "https://localhost:8080/"
        },
        "outputId": "1ee9c8af-5743-4c6a-b2d0-fe31ee5031c1"
      },
      "execution_count": null,
      "outputs": [
        {
          "output_type": "stream",
          "name": "stdout",
          "text": [
            "Title : Task 2\n",
            "Description : Uploading documents\n",
            "Status : Pending\n",
            "\n",
            "Title : Task 3\n",
            "Description : Editing photos\n",
            "Status : Pending\n",
            "\n"
          ]
        }
      ]
    },
    {
      "cell_type": "code",
      "source": [
        "task_manager.show_all_tasks()"
      ],
      "metadata": {
        "colab": {
          "base_uri": "https://localhost:8080/"
        },
        "id": "tUE52kfmt-pM",
        "outputId": "90b0e603-f77f-47a5-bb23-a7aae0356c06"
      },
      "execution_count": null,
      "outputs": [
        {
          "output_type": "stream",
          "name": "stdout",
          "text": [
            "Title : Task 1\n",
            "Description : Completing python assignment\n",
            "Status : Complete\n",
            "\n",
            "Title : Task 2\n",
            "Description : Uploading documents\n",
            "Status : Pending\n",
            "\n",
            "Title : Task 3\n",
            "Description : Editing photos\n",
            "Status : Pending\n",
            "\n"
          ]
        }
      ]
    },
    {
      "cell_type": "code",
      "source": [
        "task_manager.complete_task()"
      ],
      "metadata": {
        "colab": {
          "base_uri": "https://localhost:8080/"
        },
        "id": "t77RKxfi2-nA",
        "outputId": "3ff7c1f5-cb2d-4bff-f464-4953e14c47a1"
      },
      "execution_count": null,
      "outputs": [
        {
          "output_type": "stream",
          "name": "stdout",
          "text": [
            "Task 2 completed\n",
            "\n"
          ]
        }
      ]
    },
    {
      "cell_type": "code",
      "source": [
        "task_manager.save_task_list(\"tasks_list.csv\")"
      ],
      "metadata": {
        "id": "vKtBDe9Quvay"
      },
      "execution_count": null,
      "outputs": []
    },
    {
      "cell_type": "code",
      "source": [
        "from google.colab import files\n",
        "files.download(\"tasks_list.csv\")"
      ],
      "metadata": {
        "colab": {
          "base_uri": "https://localhost:8080/",
          "height": 17
        },
        "id": "rcYpGQkPxfZa",
        "outputId": "a2973a3b-e817-436a-d5af-ef7870859d4a"
      },
      "execution_count": null,
      "outputs": [
        {
          "output_type": "display_data",
          "data": {
            "text/plain": [
              "<IPython.core.display.Javascript object>"
            ],
            "application/javascript": [
              "\n",
              "    async function download(id, filename, size) {\n",
              "      if (!google.colab.kernel.accessAllowed) {\n",
              "        return;\n",
              "      }\n",
              "      const div = document.createElement('div');\n",
              "      const label = document.createElement('label');\n",
              "      label.textContent = `Downloading \"${filename}\": `;\n",
              "      div.appendChild(label);\n",
              "      const progress = document.createElement('progress');\n",
              "      progress.max = size;\n",
              "      div.appendChild(progress);\n",
              "      document.body.appendChild(div);\n",
              "\n",
              "      const buffers = [];\n",
              "      let downloaded = 0;\n",
              "\n",
              "      const channel = await google.colab.kernel.comms.open(id);\n",
              "      // Send a message to notify the kernel that we're ready.\n",
              "      channel.send({})\n",
              "\n",
              "      for await (const message of channel.messages) {\n",
              "        // Send a message to notify the kernel that we're ready.\n",
              "        channel.send({})\n",
              "        if (message.buffers) {\n",
              "          for (const buffer of message.buffers) {\n",
              "            buffers.push(buffer);\n",
              "            downloaded += buffer.byteLength;\n",
              "            progress.value = downloaded;\n",
              "          }\n",
              "        }\n",
              "      }\n",
              "      const blob = new Blob(buffers, {type: 'application/binary'});\n",
              "      const a = document.createElement('a');\n",
              "      a.href = window.URL.createObjectURL(blob);\n",
              "      a.download = filename;\n",
              "      div.appendChild(a);\n",
              "      a.click();\n",
              "      div.remove();\n",
              "    }\n",
              "  "
            ]
          },
          "metadata": {}
        },
        {
          "output_type": "display_data",
          "data": {
            "text/plain": [
              "<IPython.core.display.Javascript object>"
            ],
            "application/javascript": [
              "download(\"download_468cabe4-9b4f-4b42-b2ef-bd762075b7fb\", \"tasks_list.csv\", 140)"
            ]
          },
          "metadata": {}
        }
      ]
    },
    {
      "cell_type": "code",
      "source": [],
      "metadata": {
        "id": "hGUCV-5qyL3w"
      },
      "execution_count": null,
      "outputs": []
    }
  ]
}