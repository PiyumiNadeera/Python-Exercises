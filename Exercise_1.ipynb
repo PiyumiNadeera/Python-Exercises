{
  "nbformat": 4,
  "nbformat_minor": 0,
  "metadata": {
    "colab": {
      "provenance": [],
      "authorship_tag": "ABX9TyOft8urqyw65a5ignDQpQhc"
    },
    "kernelspec": {
      "name": "python3",
      "display_name": "Python 3"
    },
    "language_info": {
      "name": "python"
    }
  },
  "cells": [
    {
      "cell_type": "code",
      "execution_count": null,
      "metadata": {
        "id": "etkgb2LdytnW"
      },
      "outputs": [],
      "source": [
        "class Book:\n",
        "  def __init__(self,title,author,isbn):\n",
        "    self.title = title\n",
        "    self.author = author\n",
        "    self.isbn = isbn"
      ]
    },
    {
      "cell_type": "code",
      "source": [
        "class Library:\n",
        "  def __init__(self,file_name=\"book_details.txt\"):\n",
        "    self.books=[]\n",
        "    self.file_name = file_name\n",
        "\n",
        "  #Adding new books\n",
        "  def add_book(self,book):\n",
        "    self.books.append(book)\n",
        "    self.store_book_details()\n",
        "    print(f\"Book successfully added.\\nTitle:{book.title} | Author:{book.author} | ISBN:{book.isbn}\\n\")\n",
        "\n",
        "  #Removing books using the ISBN\n",
        "  def remove_book(self,isbn):\n",
        "    removability = False\n",
        "    for book in self.books:\n",
        "      if (isbn == book.isbn):\n",
        "        removability = True\n",
        "        break\n",
        "      else:\n",
        "        removability = False\n",
        "\n",
        "    if(removability == True):\n",
        "      self.books.remove(book)\n",
        "      self.store_book_details()\n",
        "      print(f\"ISBN {isbn} successfully removed\")\n",
        "    else:\n",
        "      print(f\"ISBN {isbn} doesn't exist\")\n",
        "\n",
        "\n",
        "  #Search books with the title\n",
        "  def search_by_title(self,title):\n",
        "    for book in self.books:\n",
        "      if(title == book.title):\n",
        "        availability = True\n",
        "        break\n",
        "      else:\n",
        "        availability = False\n",
        "\n",
        "    if(availability == True):\n",
        "      print(f\"Book found\\nTitle : {title} | Author : {book.author}\")\n",
        "    else:\n",
        "      print(f\"No books found with the title {title}\")\n",
        "\n",
        "\n",
        "  #Serach books with the author\n",
        "  def search_by_author(self,author):\n",
        "    for book in self.books:\n",
        "      if(author == book.author):\n",
        "        availability = True\n",
        "        break\n",
        "      else:\n",
        "        availability = False\n",
        "\n",
        "    if(availability == True):\n",
        "      print(f\"Book found\\nTitle : {author} | Author : {book.author}\")\n",
        "    else:\n",
        "      print(f\"No books found written by {author}\")\n",
        "\n",
        "\n",
        "  #Store book details in a text file\n",
        "  def store_book_details(self):\n",
        "    with open(self.file_name,\"w\") as file:\n",
        "      for book in self.books:\n",
        "        file.write(f\"Title : {book.title} | Author : {book.author} | ISBN : {book.isbn}\\n\")\n",
        "\n"
      ],
      "metadata": {
        "id": "SsGKEbY72fo6"
      },
      "execution_count": null,
      "outputs": []
    },
    {
      "cell_type": "code",
      "source": [
        "library = Library()\n",
        "\n",
        "book1 = Book(\"Madol duwa\", \"Martin Wickramasinghe\", 10111)\n",
        "book2 = Book(\"Famous Five\", \"Enid Blyton\", 10112)\n",
        "book3 = Book(\"Harry Potter\", \"J.K. Rowling\", 10113)\n",
        "book4 = Book(\"Viragaya\", \"Martin Wickramasinghe\", 10114)\n",
        "\n",
        "library.add_book(book1)\n",
        "library.add_book(book2)\n",
        "library.add_book(book3)\n",
        "library.add_book(book4)"
      ],
      "metadata": {
        "colab": {
          "base_uri": "https://localhost:8080/"
        },
        "id": "UTD1PyxnRHMl",
        "outputId": "339195d9-d997-45ef-82d5-7fab8082edc8"
      },
      "execution_count": null,
      "outputs": [
        {
          "output_type": "stream",
          "name": "stdout",
          "text": [
            "Book successfully added.\n",
            "Title:Madol duwa | Author:Martin Wickramasinghe | ISBN:10111\n",
            "\n",
            "Book successfully added.\n",
            "Title:Famous Five | Author:Enid Blyton | ISBN:10112\n",
            "\n",
            "Book successfully added.\n",
            "Title:Harry Potter | Author:J.K. Rowling | ISBN:10113\n",
            "\n",
            "Book successfully added.\n",
            "Title:Viragaya | Author:Martin Wickramasinghe | ISBN:10114\n",
            "\n"
          ]
        }
      ]
    },
    {
      "cell_type": "code",
      "source": [
        "library.remove_book(10118)"
      ],
      "metadata": {
        "colab": {
          "base_uri": "https://localhost:8080/"
        },
        "id": "vZBSd_naRQHF",
        "outputId": "299309c1-b9d1-4c63-e0a9-973ffef265e6"
      },
      "execution_count": null,
      "outputs": [
        {
          "output_type": "stream",
          "name": "stdout",
          "text": [
            "ISBN 10118 doesn't exist\n"
          ]
        }
      ]
    },
    {
      "cell_type": "code",
      "source": [
        "library.remove_book(10112)"
      ],
      "metadata": {
        "colab": {
          "base_uri": "https://localhost:8080/"
        },
        "id": "uwl9YpjiS-7M",
        "outputId": "2eb80c9a-dcc9-4f65-8e43-ee75c71b682e"
      },
      "execution_count": null,
      "outputs": [
        {
          "output_type": "stream",
          "name": "stdout",
          "text": [
            "ISBN 10112 successfully removed\n"
          ]
        }
      ]
    },
    {
      "cell_type": "code",
      "source": [
        "library.search_by_title(\"Harry Potter\")"
      ],
      "metadata": {
        "colab": {
          "base_uri": "https://localhost:8080/"
        },
        "id": "lI1LVmaXRWgE",
        "outputId": "05f6d3ed-2a21-4680-d99f-ff263bbb30b4"
      },
      "execution_count": null,
      "outputs": [
        {
          "output_type": "stream",
          "name": "stdout",
          "text": [
            "Book found\n",
            "Title : Harry Potter | Author : J.K. Rowling\n"
          ]
        }
      ]
    },
    {
      "cell_type": "code",
      "source": [
        "library.search_by_title(\"Prince and the pauper\")"
      ],
      "metadata": {
        "colab": {
          "base_uri": "https://localhost:8080/"
        },
        "id": "PKiNd1CGqPnK",
        "outputId": "b62931c4-d11b-4de4-f740-c9081be7d3c1"
      },
      "execution_count": null,
      "outputs": [
        {
          "output_type": "stream",
          "name": "stdout",
          "text": [
            "No books found with the title Prince and the pauper\n"
          ]
        }
      ]
    },
    {
      "cell_type": "code",
      "source": [
        "library.search_by_author(\"Martin Wickramasinghe\")"
      ],
      "metadata": {
        "id": "W52X6kGxRZH6",
        "colab": {
          "base_uri": "https://localhost:8080/"
        },
        "outputId": "d3b9f980-e84c-45b2-a2c6-78587719bdad"
      },
      "execution_count": null,
      "outputs": [
        {
          "output_type": "stream",
          "name": "stdout",
          "text": [
            "Book found\n",
            "Title : Martin Wickramasinghe | Author : Martin Wickramasinghe\n"
          ]
        }
      ]
    },
    {
      "cell_type": "code",
      "source": [
        "library.search_by_author(\"Senarath De Silva\")"
      ],
      "metadata": {
        "id": "eGA5x0FhU1Mv",
        "colab": {
          "base_uri": "https://localhost:8080/"
        },
        "outputId": "bf1287d1-47cc-4221-9f32-08a2f07a9160"
      },
      "execution_count": null,
      "outputs": [
        {
          "output_type": "stream",
          "name": "stdout",
          "text": [
            "No books found written by Senarath De Silva\n"
          ]
        }
      ]
    },
    {
      "cell_type": "code",
      "source": [
        "from google.colab import files\n",
        "files.download(\"book_details.txt\")"
      ],
      "metadata": {
        "id": "n97b7VTX55cq",
        "colab": {
          "base_uri": "https://localhost:8080/",
          "height": 17
        },
        "outputId": "6911d263-4519-4234-a5ec-b97a7699b8a8"
      },
      "execution_count": null,
      "outputs": [
        {
          "output_type": "display_data",
          "data": {
            "text/plain": [
              "<IPython.core.display.Javascript object>"
            ],
            "application/javascript": [
              "\n",
              "    async function download(id, filename, size) {\n",
              "      if (!google.colab.kernel.accessAllowed) {\n",
              "        return;\n",
              "      }\n",
              "      const div = document.createElement('div');\n",
              "      const label = document.createElement('label');\n",
              "      label.textContent = `Downloading \"${filename}\": `;\n",
              "      div.appendChild(label);\n",
              "      const progress = document.createElement('progress');\n",
              "      progress.max = size;\n",
              "      div.appendChild(progress);\n",
              "      document.body.appendChild(div);\n",
              "\n",
              "      const buffers = [];\n",
              "      let downloaded = 0;\n",
              "\n",
              "      const channel = await google.colab.kernel.comms.open(id);\n",
              "      // Send a message to notify the kernel that we're ready.\n",
              "      channel.send({})\n",
              "\n",
              "      for await (const message of channel.messages) {\n",
              "        // Send a message to notify the kernel that we're ready.\n",
              "        channel.send({})\n",
              "        if (message.buffers) {\n",
              "          for (const buffer of message.buffers) {\n",
              "            buffers.push(buffer);\n",
              "            downloaded += buffer.byteLength;\n",
              "            progress.value = downloaded;\n",
              "          }\n",
              "        }\n",
              "      }\n",
              "      const blob = new Blob(buffers, {type: 'application/binary'});\n",
              "      const a = document.createElement('a');\n",
              "      a.href = window.URL.createObjectURL(blob);\n",
              "      a.download = filename;\n",
              "      div.appendChild(a);\n",
              "      a.click();\n",
              "      div.remove();\n",
              "    }\n",
              "  "
            ]
          },
          "metadata": {}
        },
        {
          "output_type": "display_data",
          "data": {
            "text/plain": [
              "<IPython.core.display.Javascript object>"
            ],
            "application/javascript": [
              "download(\"download_99cac460-164b-4ed5-8970-0bbf39a0f9ea\", \"book_details.txt\", 192)"
            ]
          },
          "metadata": {}
        }
      ]
    },
    {
      "cell_type": "code",
      "source": [],
      "metadata": {
        "id": "W7OZaTc0rzXC"
      },
      "execution_count": null,
      "outputs": []
    }
  ]
}