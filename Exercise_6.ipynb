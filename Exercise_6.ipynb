{
  "nbformat": 4,
  "nbformat_minor": 0,
  "metadata": {
    "colab": {
      "provenance": [],
      "authorship_tag": "ABX9TyNIjWaRq0BdtgjUzl2HmhUe"
    },
    "kernelspec": {
      "name": "python3",
      "display_name": "Python 3"
    },
    "language_info": {
      "name": "python"
    }
  },
  "cells": [
    {
      "cell_type": "code",
      "execution_count": null,
      "metadata": {
        "id": "3gKF5qIQAAYR"
      },
      "outputs": [],
      "source": [
        "class Contact:\n",
        "  def __init__(self,name,phone,email):\n",
        "    self.name = name\n",
        "    self.phone = phone\n",
        "    self.email = email\n"
      ]
    },
    {
      "cell_type": "code",
      "source": [
        "class Phonebook:\n",
        "  def __init__(self):\n",
        "    self.contacts = {}\n",
        "\n",
        "  #Adding contacts to the phone book\n",
        "  def add_contact(self,contact):\n",
        "    self.contacts[contact.name] = contact\n",
        "    print(f\"{contact.name} successfully added\")\n",
        "\n",
        "  #Removing contacts\n",
        "  def remove_contact(self,contact_name):\n",
        "    if contact_name in self.contacts:\n",
        "      del self.contacts[contact_name]\n",
        "      print(f\"{contact_name} successfully removed from the contacts\")\n",
        "    else:\n",
        "      print(\"No contacts found\")\n",
        "\n",
        "  #Searching contacts by name\n",
        "  def search_contact(self,name):\n",
        "    contact_availability = False\n",
        "    for contact in self.contacts.values():\n",
        "      if (name == contact.name):\n",
        "        contact_availability = True\n",
        "        print(f\"Name : {contact.name} | Phone : {contact.phone} | Email : {contact.email}\")\n",
        "        break\n",
        "      else:\n",
        "        continue\n",
        "\n",
        "    if (contact_availability == False):\n",
        "      print(\"No contacts found\")\n",
        "\n",
        "  #Saving contacts to a text file\n",
        "  def save_contacts(self,file_name):\n",
        "    with open(file_name,\"w\") as file:\n",
        "      for contact in self.contacts.values():\n",
        "        file.write(f\"Name : {contact.name} | Phone : {contact.phone} | Email : {contact.email}\\n\")\n",
        "\n",
        "    print(f\"Contacts saved to the {file_name} file\")\n",
        "\n",
        "  #Loading contacts from the text file\n",
        "  def load_contacts(self,file_name):\n",
        "    print(\"------Contact information------\\n\")\n",
        "    with open(file_name,\"r\") as file:\n",
        "      for contact in file:\n",
        "        print(contact)\n",
        "\n"
      ],
      "metadata": {
        "id": "eFHBePT6Bzqg"
      },
      "execution_count": null,
      "outputs": []
    },
    {
      "cell_type": "code",
      "source": [
        "contact1 = Contact(\"Amal\",\"0112323444\",\"amal@gmail.com\")\n",
        "contact2 = Contact(\"Nimali\",\"0772233445\",\"nimali@gmail.com\")\n",
        "contact3 = Contact(\"Binara\",\"0711233445\",\"binara@gmail.com\")\n",
        "contact4 = Contact(\"Isuru\",\"0790007655\",\"isuru@gmail.com\")\n",
        "contact5 = Contact(\"Tharushi\",\"0779080789\",\"tharushi@gmail.com\")\n",
        "contact6 = Contact(\"Nileesha\",\"0711233111\",\"nileesha@gmail.com\")\n",
        "\n",
        "phonebook = Phonebook()\n",
        "\n",
        "phonebook.add_contact(contact1)\n",
        "phonebook.add_contact(contact2)\n",
        "phonebook.add_contact(contact3)\n",
        "phonebook.add_contact(contact4)\n",
        "phonebook.add_contact(contact5)\n",
        "phonebook.add_contact(contact6)"
      ],
      "metadata": {
        "colab": {
          "base_uri": "https://localhost:8080/"
        },
        "id": "X3vobLiICtUm",
        "outputId": "1d47b5ed-0262-4537-8266-0ea7e17dceda"
      },
      "execution_count": null,
      "outputs": [
        {
          "output_type": "stream",
          "name": "stdout",
          "text": [
            "Amal successfully added\n",
            "Nimali successfully added\n",
            "Binara successfully added\n",
            "Isuru successfully added\n",
            "Tharushi successfully added\n",
            "Nileesha successfully added\n"
          ]
        }
      ]
    },
    {
      "cell_type": "code",
      "source": [
        "phonebook.remove_contact(\"Binara\")"
      ],
      "metadata": {
        "colab": {
          "base_uri": "https://localhost:8080/"
        },
        "id": "9yzKYc6dEd6X",
        "outputId": "8fda248e-2179-46aa-cb50-9498cf798f20"
      },
      "execution_count": null,
      "outputs": [
        {
          "output_type": "stream",
          "name": "stdout",
          "text": [
            "Binara successfully removed from the contacts\n"
          ]
        }
      ]
    },
    {
      "cell_type": "code",
      "source": [
        "phonebook.remove_contact(\"Sadani\")"
      ],
      "metadata": {
        "colab": {
          "base_uri": "https://localhost:8080/"
        },
        "id": "FS-hZInbzWRI",
        "outputId": "6fbb5566-d0f9-4b16-fb5d-79548feb021f"
      },
      "execution_count": null,
      "outputs": [
        {
          "output_type": "stream",
          "name": "stdout",
          "text": [
            "No contacts found\n"
          ]
        }
      ]
    },
    {
      "cell_type": "code",
      "source": [
        "phonebook.search_contact(\"Tharushi\")"
      ],
      "metadata": {
        "colab": {
          "base_uri": "https://localhost:8080/"
        },
        "id": "zeXOwLY5vN6y",
        "outputId": "a88e5549-28e2-4b0a-eacf-5fe6444a21ee"
      },
      "execution_count": null,
      "outputs": [
        {
          "output_type": "stream",
          "name": "stdout",
          "text": [
            "Name : Tharushi | Phone : 0779080789 | Email : tharushi@gmail.com\n"
          ]
        }
      ]
    },
    {
      "cell_type": "code",
      "source": [
        "phonebook.search_contact(\"Piyumi\")"
      ],
      "metadata": {
        "id": "YzOEd31Zx9so",
        "colab": {
          "base_uri": "https://localhost:8080/"
        },
        "outputId": "7fe36c0a-c547-4dc8-d913-250233152eb4"
      },
      "execution_count": null,
      "outputs": [
        {
          "output_type": "stream",
          "name": "stdout",
          "text": [
            "No contacts found\n"
          ]
        }
      ]
    },
    {
      "cell_type": "code",
      "source": [
        "phonebook.save_contacts(\"contact_details.txt\")"
      ],
      "metadata": {
        "id": "hp4tLQO0zOYv",
        "colab": {
          "base_uri": "https://localhost:8080/"
        },
        "outputId": "01dc73e7-be82-411d-82de-d277ddb41398"
      },
      "execution_count": null,
      "outputs": [
        {
          "output_type": "stream",
          "name": "stdout",
          "text": [
            "Contacts saved to the contact_details.txt file\n"
          ]
        }
      ]
    },
    {
      "cell_type": "code",
      "source": [
        "from google.colab import files\n",
        "files.download(\"contact_details.txt\")"
      ],
      "metadata": {
        "id": "3KAvAjhW1OdQ",
        "colab": {
          "base_uri": "https://localhost:8080/",
          "height": 34
        },
        "outputId": "ed07d88f-a397-4097-c521-bdb9be7d9816"
      },
      "execution_count": null,
      "outputs": [
        {
          "output_type": "display_data",
          "data": {
            "text/plain": [
              "<IPython.core.display.Javascript object>"
            ],
            "application/javascript": [
              "\n",
              "    async function download(id, filename, size) {\n",
              "      if (!google.colab.kernel.accessAllowed) {\n",
              "        return;\n",
              "      }\n",
              "      const div = document.createElement('div');\n",
              "      const label = document.createElement('label');\n",
              "      label.textContent = `Downloading \"${filename}\": `;\n",
              "      div.appendChild(label);\n",
              "      const progress = document.createElement('progress');\n",
              "      progress.max = size;\n",
              "      div.appendChild(progress);\n",
              "      document.body.appendChild(div);\n",
              "\n",
              "      const buffers = [];\n",
              "      let downloaded = 0;\n",
              "\n",
              "      const channel = await google.colab.kernel.comms.open(id);\n",
              "      // Send a message to notify the kernel that we're ready.\n",
              "      channel.send({})\n",
              "\n",
              "      for await (const message of channel.messages) {\n",
              "        // Send a message to notify the kernel that we're ready.\n",
              "        channel.send({})\n",
              "        if (message.buffers) {\n",
              "          for (const buffer of message.buffers) {\n",
              "            buffers.push(buffer);\n",
              "            downloaded += buffer.byteLength;\n",
              "            progress.value = downloaded;\n",
              "          }\n",
              "        }\n",
              "      }\n",
              "      const blob = new Blob(buffers, {type: 'application/binary'});\n",
              "      const a = document.createElement('a');\n",
              "      a.href = window.URL.createObjectURL(blob);\n",
              "      a.download = filename;\n",
              "      div.appendChild(a);\n",
              "      a.click();\n",
              "      div.remove();\n",
              "    }\n",
              "  "
            ]
          },
          "metadata": {}
        },
        {
          "output_type": "display_data",
          "data": {
            "text/plain": [
              "<IPython.core.display.Javascript object>"
            ],
            "application/javascript": [
              "download(\"download_bb76692b-f82f-4ed0-8d6e-5c1f995f984c\", \"contact_details.txt\", 312)"
            ]
          },
          "metadata": {}
        }
      ]
    },
    {
      "cell_type": "code",
      "source": [
        "phonebook.load_contacts(\"contact_details.txt\")"
      ],
      "metadata": {
        "id": "u6TwkTNB2QQP",
        "colab": {
          "base_uri": "https://localhost:8080/"
        },
        "outputId": "4fff05c9-3665-4833-ddf5-c49f61226814"
      },
      "execution_count": null,
      "outputs": [
        {
          "output_type": "stream",
          "name": "stdout",
          "text": [
            "------Contact information------\n",
            "\n",
            "Name : Amal | Phone : 0112323444 | Email : amal@gmail.com\n",
            "\n",
            "Name : Nimali | Phone : 0772233445 | Email : nimali@gmail.com\n",
            "\n",
            "Name : Isuru | Phone : 0790007655 | Email : isuru@gmail.com\n",
            "\n",
            "Name : Tharushi | Phone : 0779080789 | Email : tharushi@gmail.com\n",
            "\n",
            "Name : Nileesha | Phone : 0711233111 | Email : nileesha@gmail.com\n",
            "\n"
          ]
        }
      ]
    },
    {
      "cell_type": "code",
      "source": [],
      "metadata": {
        "id": "NOhOTOyYwF8a"
      },
      "execution_count": null,
      "outputs": []
    }
  ]
}