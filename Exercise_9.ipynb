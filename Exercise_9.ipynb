{
  "nbformat": 4,
  "nbformat_minor": 0,
  "metadata": {
    "colab": {
      "provenance": [],
      "authorship_tag": "ABX9TyN6GcjBxQXvQyjk5h0gY1Vx"
    },
    "kernelspec": {
      "name": "python3",
      "display_name": "Python 3"
    },
    "language_info": {
      "name": "python"
    }
  },
  "cells": [
    {
      "cell_type": "code",
      "execution_count": null,
      "metadata": {
        "id": "l3WEllki3m2S"
      },
      "outputs": [],
      "source": [
        "class Recipe:\n",
        "  def __init__(self,name,ingredients,instructions):\n",
        "    self.name = name\n",
        "    self.ingredients = ingredients\n",
        "    self.instructions = instructions\n"
      ]
    },
    {
      "cell_type": "code",
      "source": [
        "import json\n",
        "\n",
        "class RecipeBook:\n",
        "  def __init__(self):\n",
        "    self.recipes = {}\n",
        "\n",
        "  #Add recipes\n",
        "  def add_recipe(self,recipe):\n",
        "    self.recipes[recipe.name] = recipe\n",
        "    print(f\"{recipe.name} added to the recipe book\\n\")\n",
        "\n",
        "  #Remove recipes by entering recipe name\n",
        "  def remove_recipe(self,recipe_name):\n",
        "    if recipe_name in self.recipes:\n",
        "      del self.recipes[recipe_name]\n",
        "      print(f\"{recipe_name} removed from the recipe book\\n\")\n",
        "    else:\n",
        "      print(f\"{recipe_name} recipe doesn't exist\")\n",
        "\n",
        "  #Search recipes\n",
        "  def search_recipe(self,recipe_name):\n",
        "    recipe = self.recipes.get(recipe_name)\n",
        "    print(f\"---{recipe_name} Recipe---\")\n",
        "    if recipe:\n",
        "      print(f\"Name: {recipe.name}\\nIngredients : {recipe.ingredients}\\nInstructions : {recipe.instructions}\\n\")\n",
        "    else:\n",
        "      print(f\"{recipe_name} recipe doesn't exist\\n\")\n",
        "\n",
        "  #Store recipies in a JSON file\n",
        "  def store_recipes(self,file_name):\n",
        "    recipe_info={}\n",
        "\n",
        "    for recipe in self.recipes.values():\n",
        "      recipe_info[recipe.name] = {\n",
        "          \"ingredients\":recipe.ingredients,\n",
        "          \"instructions\":recipe.instructions\n",
        "      }\n",
        "    with open(file_name,\"w\") as file:\n",
        "      json.dump(recipe_info,file,indent=4)\n",
        "      print(f\"Recipes stored in {file_name} file\")\n",
        "\n"
      ],
      "metadata": {
        "id": "mAOxzbSv41Bm"
      },
      "execution_count": null,
      "outputs": []
    },
    {
      "cell_type": "code",
      "source": [
        "recipe1 = Recipe(\"Biscuit pudding\",['biscuits','milk','chocolate pouder'],['Blend biscuits','Add milk','Add chocolate'])\n",
        "recipe2 = Recipe(\"Milk rice\",[\"coconut milk\",\"rice\",\"salt\"],[\"Cook rice\",\"Add milk\",\"Add salt\"])\n",
        "recipe3 = Recipe(\"Pasta\", [\"Pasta\", \"Tomato Sauce\", \"Cheese\"], [\"Cook pasta\" ,\"Add sauce\"])"
      ],
      "metadata": {
        "id": "O3dGoonO6ee0"
      },
      "execution_count": null,
      "outputs": []
    },
    {
      "cell_type": "code",
      "source": [
        "recipe_book = RecipeBook()\n",
        "\n",
        "recipe_book.add_recipe(recipe1)\n",
        "recipe_book.add_recipe(recipe2)\n",
        "recipe_book.add_recipe(recipe3)"
      ],
      "metadata": {
        "colab": {
          "base_uri": "https://localhost:8080/"
        },
        "id": "p5cph_sr64on",
        "outputId": "5dbfe5ef-3715-42ae-84e6-fd3c6b2c662e"
      },
      "execution_count": null,
      "outputs": [
        {
          "output_type": "stream",
          "name": "stdout",
          "text": [
            "Biscuit pudding added to the recipe book\n",
            "\n",
            "Milk rice added to the recipe book\n",
            "\n",
            "Pasta added to the recipe book\n",
            "\n"
          ]
        }
      ]
    },
    {
      "cell_type": "code",
      "source": [
        "recipe_book.remove_recipe(\"Milk rice\")"
      ],
      "metadata": {
        "colab": {
          "base_uri": "https://localhost:8080/"
        },
        "id": "xljYYQ4e7Bg_",
        "outputId": "3f248a0b-2498-4de8-845c-33c38fb87a30"
      },
      "execution_count": null,
      "outputs": [
        {
          "output_type": "stream",
          "name": "stdout",
          "text": [
            "Milk rice removed from the recipe book\n",
            "\n"
          ]
        }
      ]
    },
    {
      "cell_type": "code",
      "source": [
        "recipe_book.remove_recipe(\"Fried rice\")"
      ],
      "metadata": {
        "colab": {
          "base_uri": "https://localhost:8080/"
        },
        "id": "RgP7o4l3PGv_",
        "outputId": "903ccdea-0d34-452b-b119-d4ea7c45b810"
      },
      "execution_count": null,
      "outputs": [
        {
          "output_type": "stream",
          "name": "stdout",
          "text": [
            "Fried rice recipe doesn't exist\n"
          ]
        }
      ]
    },
    {
      "cell_type": "code",
      "source": [
        "recipe_book.search_recipe(\"Pasta\")\n",
        "recipe_book.search_recipe(\"Cake\")"
      ],
      "metadata": {
        "colab": {
          "base_uri": "https://localhost:8080/"
        },
        "id": "KghqPd3lABFu",
        "outputId": "89f08181-d111-4dd7-d413-ae1c3b4c7ba7"
      },
      "execution_count": null,
      "outputs": [
        {
          "output_type": "stream",
          "name": "stdout",
          "text": [
            "---Pasta Recipe---\n",
            "Name: Pasta\n",
            "Ingredients : ['Pasta', 'Tomato Sauce', 'Cheese']\n",
            "Instructions : ['Cook pasta', 'Add sauce']\n",
            "\n",
            "---Cake Recipe---\n",
            "Cake recipe doesn't exist\n",
            "\n"
          ]
        }
      ]
    },
    {
      "cell_type": "code",
      "source": [
        "recipe_book.store_recipes(\"recipes_list.json\")"
      ],
      "metadata": {
        "id": "t6XAhNsTA9Jy",
        "colab": {
          "base_uri": "https://localhost:8080/"
        },
        "outputId": "9378b9a2-74f1-440d-a999-077783da56d4"
      },
      "execution_count": null,
      "outputs": [
        {
          "output_type": "stream",
          "name": "stdout",
          "text": [
            "Recipes stored in recipes_list.json file\n"
          ]
        }
      ]
    },
    {
      "cell_type": "code",
      "source": [
        "from google.colab import files\n",
        "files.download(\"recipes_list.json\")"
      ],
      "metadata": {
        "colab": {
          "base_uri": "https://localhost:8080/",
          "height": 17
        },
        "id": "AfN8nG9JHZWd",
        "outputId": "efea4087-d30e-48b7-9a59-29e41aa57ae0"
      },
      "execution_count": null,
      "outputs": [
        {
          "output_type": "display_data",
          "data": {
            "text/plain": [
              "<IPython.core.display.Javascript object>"
            ],
            "application/javascript": [
              "\n",
              "    async function download(id, filename, size) {\n",
              "      if (!google.colab.kernel.accessAllowed) {\n",
              "        return;\n",
              "      }\n",
              "      const div = document.createElement('div');\n",
              "      const label = document.createElement('label');\n",
              "      label.textContent = `Downloading \"${filename}\": `;\n",
              "      div.appendChild(label);\n",
              "      const progress = document.createElement('progress');\n",
              "      progress.max = size;\n",
              "      div.appendChild(progress);\n",
              "      document.body.appendChild(div);\n",
              "\n",
              "      const buffers = [];\n",
              "      let downloaded = 0;\n",
              "\n",
              "      const channel = await google.colab.kernel.comms.open(id);\n",
              "      // Send a message to notify the kernel that we're ready.\n",
              "      channel.send({})\n",
              "\n",
              "      for await (const message of channel.messages) {\n",
              "        // Send a message to notify the kernel that we're ready.\n",
              "        channel.send({})\n",
              "        if (message.buffers) {\n",
              "          for (const buffer of message.buffers) {\n",
              "            buffers.push(buffer);\n",
              "            downloaded += buffer.byteLength;\n",
              "            progress.value = downloaded;\n",
              "          }\n",
              "        }\n",
              "      }\n",
              "      const blob = new Blob(buffers, {type: 'application/binary'});\n",
              "      const a = document.createElement('a');\n",
              "      a.href = window.URL.createObjectURL(blob);\n",
              "      a.download = filename;\n",
              "      div.appendChild(a);\n",
              "      a.click();\n",
              "      div.remove();\n",
              "    }\n",
              "  "
            ]
          },
          "metadata": {}
        },
        {
          "output_type": "display_data",
          "data": {
            "text/plain": [
              "<IPython.core.display.Javascript object>"
            ],
            "application/javascript": [
              "download(\"download_18038e6c-4d6c-41f7-b683-7da4d4edd49b\", \"recipes_list.json\", 477)"
            ]
          },
          "metadata": {}
        }
      ]
    },
    {
      "cell_type": "code",
      "source": [],
      "metadata": {
        "id": "Emk1wwGPhV54"
      },
      "execution_count": null,
      "outputs": []
    }
  ]
}