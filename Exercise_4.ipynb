{
  "nbformat": 4,
  "nbformat_minor": 0,
  "metadata": {
    "colab": {
      "provenance": [],
      "authorship_tag": "ABX9TyOTroMCOuISRnm8YnCawvl/"
    },
    "kernelspec": {
      "name": "python3",
      "display_name": "Python 3"
    },
    "language_info": {
      "name": "python"
    }
  },
  "cells": [
    {
      "cell_type": "code",
      "execution_count": null,
      "metadata": {
        "id": "XUGQEbqq1hQ2"
      },
      "outputs": [],
      "source": [
        "class Product:\n",
        "  def __init__(self,name,price,quantity):\n",
        "    self.name = name\n",
        "    self.price = price\n",
        "    self.quantity = quantity\n",
        "\n",
        "  def __str__(self):\n",
        "    return f\"Product name : {self.name}\\nPrice : {self.price:.2f}\\nQuantity : {self.quantity}\\n\""
      ]
    },
    {
      "cell_type": "code",
      "source": [
        "class ShoppingCart:\n",
        "  def __init__(self):\n",
        "    self.cart = {}\n",
        "\n",
        "  #Adding products to the cart\n",
        "  def add_product(self,product):\n",
        "    if product.name in self.cart:\n",
        "      self.cart[product.name].quantity += product.quantity\n",
        "    else:\n",
        "      self.cart[product.name] = product\n",
        "\n",
        "    print(f\"{product.name} successfully added to the cart.\\nQuantity : {product.quantity}\\nTotal : {product.quantity * product.price:.2f}\\n\")\n",
        "\n",
        "  #Removing products from the cart\n",
        "  def remove_product(self,product):\n",
        "    if product.name in self.cart:\n",
        "      del self.cart[product.name]\n",
        "      print(f\"{product.name} removed from the cart\")\n",
        "    else:\n",
        "      print(\"No product found\")\n",
        "\n",
        "  #Calculating the total of the products\n",
        "  def calculate_total(self):\n",
        "    total = 0\n",
        "    for item in self.cart.values():\n",
        "      total += item.price * item.quantity\n",
        "\n",
        "    return total\n",
        "\n",
        "  #Displaying cart content\n",
        "  def display_cart(self):\n",
        "    print(\"---------Cart Items---------\")\n",
        "    for item in self.cart.values():\n",
        "      print(f\"Name : {item.name}\\nPrice : {item.price}\\nQuantity : {item.quantity}\\n\")\n",
        "\n",
        "    total = self.calculate_total()\n",
        "    print(f\"Total : {total:.2f}\")"
      ],
      "metadata": {
        "id": "OdlNACq91sp4"
      },
      "execution_count": null,
      "outputs": []
    },
    {
      "cell_type": "code",
      "source": [
        "product1 = Product(\"Chocolate\",260.00,2)\n",
        "product2 = Product(\"Fresh milk\",500.00,1)\n",
        "product3 = Product(\"Biscuits\",100.00,4)\n",
        "product4 = Product(\"Biscuits\",100.00,2)\n",
        "\n",
        "print(product1)\n",
        "print(product2)\n",
        "print(product3)\n",
        "print(product4)\n"
      ],
      "metadata": {
        "colab": {
          "base_uri": "https://localhost:8080/"
        },
        "id": "ulgp7HLP14SC",
        "outputId": "31dc1653-bcec-469c-992d-25d4181a57cb"
      },
      "execution_count": null,
      "outputs": [
        {
          "output_type": "stream",
          "name": "stdout",
          "text": [
            "Product name : Chocolate\n",
            "Price : 260.00\n",
            "Quantity : 2\n",
            "\n",
            "Product name : Fresh milk\n",
            "Price : 500.00\n",
            "Quantity : 1\n",
            "\n",
            "Product name : Biscuits\n",
            "Price : 100.00\n",
            "Quantity : 4\n",
            "\n",
            "Product name : Biscuits\n",
            "Price : 100.00\n",
            "Quantity : 2\n",
            "\n"
          ]
        }
      ]
    },
    {
      "cell_type": "code",
      "source": [
        "shopping_cart = ShoppingCart()\n",
        "\n",
        "shopping_cart.add_product(product1)\n",
        "shopping_cart.add_product(product2)\n",
        "shopping_cart.add_product(product3)\n",
        "shopping_cart.add_product(product4)\n"
      ],
      "metadata": {
        "colab": {
          "base_uri": "https://localhost:8080/"
        },
        "id": "yTDyeVzX3F-k",
        "outputId": "d62eb4b7-390e-4aa2-bde8-d9a15bd02ae2"
      },
      "execution_count": null,
      "outputs": [
        {
          "output_type": "stream",
          "name": "stdout",
          "text": [
            "Chocolate successfully added to the cart.\n",
            "Quantity : 2\n",
            "Total : 520.00\n",
            "\n",
            "Fresh milk successfully added to the cart.\n",
            "Quantity : 1\n",
            "Total : 500.00\n",
            "\n",
            "Biscuits successfully added to the cart.\n",
            "Quantity : 4\n",
            "Total : 400.00\n",
            "\n",
            "Biscuits successfully added to the cart.\n",
            "Quantity : 2\n",
            "Total : 200.00\n",
            "\n"
          ]
        }
      ]
    },
    {
      "cell_type": "code",
      "source": [
        "shopping_cart.display_cart()"
      ],
      "metadata": {
        "colab": {
          "base_uri": "https://localhost:8080/"
        },
        "id": "Gi9LcSYcedo1",
        "outputId": "f3947ac1-bdd2-410a-dd5f-595f8ce963ee"
      },
      "execution_count": null,
      "outputs": [
        {
          "output_type": "stream",
          "name": "stdout",
          "text": [
            "---------Cart Items---------\n",
            "Name : Chocolate\n",
            "Price : 260.0\n",
            "Quantity : 2\n",
            "\n",
            "Name : Fresh milk\n",
            "Price : 500.0\n",
            "Quantity : 1\n",
            "\n",
            "Name : Biscuits\n",
            "Price : 100.0\n",
            "Quantity : 6\n",
            "\n",
            "Total : 1620.00\n"
          ]
        }
      ]
    },
    {
      "cell_type": "code",
      "source": [
        "shopping_cart.remove_product(product3)"
      ],
      "metadata": {
        "colab": {
          "base_uri": "https://localhost:8080/"
        },
        "id": "g-jr1Ffi3V4Q",
        "outputId": "021de05a-8b73-4a8c-8500-97034abf1781"
      },
      "execution_count": null,
      "outputs": [
        {
          "output_type": "stream",
          "name": "stdout",
          "text": [
            "Biscuits removed from the cart\n"
          ]
        }
      ]
    },
    {
      "cell_type": "code",
      "source": [
        "shopping_cart.calculate_total()"
      ],
      "metadata": {
        "colab": {
          "base_uri": "https://localhost:8080/"
        },
        "id": "40S7PfwIZxgV",
        "outputId": "9fc3aa50-63f0-4ae9-fec3-cba55124a2cf"
      },
      "execution_count": null,
      "outputs": [
        {
          "output_type": "execute_result",
          "data": {
            "text/plain": [
              "1020.0"
            ]
          },
          "metadata": {},
          "execution_count": 158
        }
      ]
    },
    {
      "cell_type": "code",
      "source": [
        "shopping_cart.display_cart()"
      ],
      "metadata": {
        "colab": {
          "base_uri": "https://localhost:8080/"
        },
        "id": "bQxj-c_BbQva",
        "outputId": "1960afc1-b8f5-4e9e-cc04-db0d12c429eb"
      },
      "execution_count": null,
      "outputs": [
        {
          "output_type": "stream",
          "name": "stdout",
          "text": [
            "---------Cart Items---------\n",
            "Name : Chocolate\n",
            "Price : 260.0\n",
            "Quantity : 2\n",
            "\n",
            "Name : Fresh milk\n",
            "Price : 500.0\n",
            "Quantity : 1\n",
            "\n",
            "Total : 1020.00\n"
          ]
        }
      ]
    },
    {
      "cell_type": "code",
      "source": [],
      "metadata": {
        "id": "Khu6a2Cpghjp"
      },
      "execution_count": null,
      "outputs": []
    }
  ]
}