{
  "nbformat": 4,
  "nbformat_minor": 0,
  "metadata": {
    "colab": {
      "provenance": [],
      "authorship_tag": "ABX9TyPeDo1O3aRCtflsXhcxNXGz"
    },
    "kernelspec": {
      "name": "python3",
      "display_name": "Python 3"
    },
    "language_info": {
      "name": "python"
    }
  },
  "cells": [
    {
      "cell_type": "code",
      "execution_count": null,
      "metadata": {
        "id": "-yqiZfEgm3Jy"
      },
      "outputs": [],
      "source": [
        "import csv\n",
        "\n",
        "class WeatherData:\n",
        "  def __init__(self,temprature_values):\n",
        "    self.temprature_values = tuple(temprature_values)\n",
        "\n",
        "  #Calculating average tempreature\n",
        "  def average(self):\n",
        "    average = sum(self.temprature_values)/len(self.temprature_values)\n",
        "    print(f\"Average tempreature : {average:.2f}\")\n",
        "\n",
        "  #Calculating highest tempreture\n",
        "  def highest_tempreature(self):\n",
        "    print(f\"Highest tempreature :\" ,max(self.temprature_values))\n",
        "\n",
        "  #Calculating lowest tempreture\n",
        "  def lowest_tempreature(self):\n",
        "     print(f\"Lowest tempreature :\" ,min(self.temprature_values))\n",
        "\n",
        "  #Storing tempreture values in a csv file\n",
        "  def store_tempreatures(self,file_name):\n",
        "    with open(file_name,mode=\"w\",newline=\"\") as file:\n",
        "      writer = csv.writer(file)\n",
        "      writer.writerow([\"Day\",\"Tempreature\"])\n",
        "\n",
        "      for i,temp in enumerate(self.temprature_values,1):\n",
        "        writer.writerow([f\"Day {i}\",temp])\n",
        "\n",
        "      print(f\"Tempreature values stored into the {file_name} file\")\n",
        "\n",
        "  #Reading tempreature values from the csv file\n",
        "  def read_tempreature(self,file_name):\n",
        "    with open(file_name,mode=\"r\") as file:\n",
        "      reader = csv.reader(file)\n",
        "      next(reader)\n",
        "      self.tempreature_values = tuple(float(row[1]) for row in reader)\n",
        "      print(\"Tempreatures of days in a week :\",self.tempreature_values)\n",
        "\n"
      ]
    },
    {
      "cell_type": "code",
      "source": [
        "tempreatures = [24.3,25.5,28.1,30.9,29.6,32.3,27.2]\n",
        "weather_data = WeatherData(tempreatures)\n"
      ],
      "metadata": {
        "id": "a0VZqMFRoFo-"
      },
      "execution_count": null,
      "outputs": []
    },
    {
      "cell_type": "code",
      "source": [
        "weather_data.average()\n"
      ],
      "metadata": {
        "colab": {
          "base_uri": "https://localhost:8080/"
        },
        "id": "6TdX8eIBoTiZ",
        "outputId": "bcc79c71-e4fc-4ec0-cf10-84d632dbc2e9"
      },
      "execution_count": null,
      "outputs": [
        {
          "output_type": "stream",
          "name": "stdout",
          "text": [
            "Average tempreature : 28.27\n"
          ]
        }
      ]
    },
    {
      "cell_type": "code",
      "source": [
        "weather_data.highest_tempreature()"
      ],
      "metadata": {
        "colab": {
          "base_uri": "https://localhost:8080/"
        },
        "id": "YvoE6WYhpEUa",
        "outputId": "35e1e8f1-bc9b-4413-eeab-f2e4649f1fee"
      },
      "execution_count": null,
      "outputs": [
        {
          "output_type": "stream",
          "name": "stdout",
          "text": [
            "Highest tempreature : 32.3\n"
          ]
        }
      ]
    },
    {
      "cell_type": "code",
      "source": [
        "weather_data.lowest_tempreature()"
      ],
      "metadata": {
        "colab": {
          "base_uri": "https://localhost:8080/"
        },
        "id": "9JZOrNFnpFHr",
        "outputId": "8ea178d4-5801-45da-d60e-2b0294048b82"
      },
      "execution_count": null,
      "outputs": [
        {
          "output_type": "stream",
          "name": "stdout",
          "text": [
            "Lowest tempreature : 24.3\n"
          ]
        }
      ]
    },
    {
      "cell_type": "code",
      "source": [
        "weather_data.store_tempreatures(\"tempreatures.csv\")"
      ],
      "metadata": {
        "colab": {
          "base_uri": "https://localhost:8080/"
        },
        "id": "O3yFKwRCpNky",
        "outputId": "762fab31-46a5-486f-e0d3-51142f34f7cc"
      },
      "execution_count": null,
      "outputs": [
        {
          "output_type": "stream",
          "name": "stdout",
          "text": [
            "Tempreature values stored into the tempreatures.csv file\n"
          ]
        }
      ]
    },
    {
      "cell_type": "code",
      "source": [
        "from google.colab import files\n",
        "files.download(\"tempreatures.csv\")"
      ],
      "metadata": {
        "colab": {
          "base_uri": "https://localhost:8080/",
          "height": 17
        },
        "id": "jDjQzPKxu_VJ",
        "outputId": "db483c1c-befa-4c8c-f24b-423c5ac5d652"
      },
      "execution_count": null,
      "outputs": [
        {
          "output_type": "display_data",
          "data": {
            "text/plain": [
              "<IPython.core.display.Javascript object>"
            ],
            "application/javascript": [
              "\n",
              "    async function download(id, filename, size) {\n",
              "      if (!google.colab.kernel.accessAllowed) {\n",
              "        return;\n",
              "      }\n",
              "      const div = document.createElement('div');\n",
              "      const label = document.createElement('label');\n",
              "      label.textContent = `Downloading \"${filename}\": `;\n",
              "      div.appendChild(label);\n",
              "      const progress = document.createElement('progress');\n",
              "      progress.max = size;\n",
              "      div.appendChild(progress);\n",
              "      document.body.appendChild(div);\n",
              "\n",
              "      const buffers = [];\n",
              "      let downloaded = 0;\n",
              "\n",
              "      const channel = await google.colab.kernel.comms.open(id);\n",
              "      // Send a message to notify the kernel that we're ready.\n",
              "      channel.send({})\n",
              "\n",
              "      for await (const message of channel.messages) {\n",
              "        // Send a message to notify the kernel that we're ready.\n",
              "        channel.send({})\n",
              "        if (message.buffers) {\n",
              "          for (const buffer of message.buffers) {\n",
              "            buffers.push(buffer);\n",
              "            downloaded += buffer.byteLength;\n",
              "            progress.value = downloaded;\n",
              "          }\n",
              "        }\n",
              "      }\n",
              "      const blob = new Blob(buffers, {type: 'application/binary'});\n",
              "      const a = document.createElement('a');\n",
              "      a.href = window.URL.createObjectURL(blob);\n",
              "      a.download = filename;\n",
              "      div.appendChild(a);\n",
              "      a.click();\n",
              "      div.remove();\n",
              "    }\n",
              "  "
            ]
          },
          "metadata": {}
        },
        {
          "output_type": "display_data",
          "data": {
            "text/plain": [
              "<IPython.core.display.Javascript object>"
            ],
            "application/javascript": [
              "download(\"download_3199b71d-4b2f-4cd3-8e45-cf7723f2f75b\", \"tempreatures.csv\", 101)"
            ]
          },
          "metadata": {}
        }
      ]
    },
    {
      "cell_type": "code",
      "source": [
        "weather_data.read_tempreature(\"tempreatures.csv\")"
      ],
      "metadata": {
        "colab": {
          "base_uri": "https://localhost:8080/"
        },
        "id": "wDmEIzXLq7cC",
        "outputId": "6a29b609-e037-4431-dd80-aceebdbaf58b"
      },
      "execution_count": null,
      "outputs": [
        {
          "output_type": "stream",
          "name": "stdout",
          "text": [
            "Tempreatures of days in a week : (24.3, 25.5, 28.1, 30.9, 29.6, 32.3, 27.2)\n"
          ]
        }
      ]
    },
    {
      "cell_type": "code",
      "source": [],
      "metadata": {
        "id": "lRYv8dJrsVSR"
      },
      "execution_count": null,
      "outputs": []
    }
  ]
}